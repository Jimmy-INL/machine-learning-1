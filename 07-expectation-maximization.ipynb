{
 "cells": [
  {
   "cell_type": "markdown",
   "metadata": {},
   "source": [
    "# Expectation Maximization for latent variable models\n",
    "\n",
    "In all the notebooks we've seen so far, we have made the assumption that the observations correspond directly to realizations of a random variable. Take the case of linear regression: we are given observations of the random variable $t$ (plus some noise), which is the target value for a given value of the input $\\mathbf{x}$. Under the framework of maximum likelihood estimation (MLE), we find the best parameters $\\boldsymbol{\\theta}$ of a model $y(\\mathbf{x}, \\boldsymbol{\\theta})$ that is able to explain the observations and yield predictions for new inputs.\n",
    "\n",
    "In the more general case, we have a dataset of observations $\\mathcal{D} = \\lbrace \\mathbf{x_1}, ..., \\mathbf{x_N}\\rbrace$. We hypothesize that each observation is drawn from a probability distribution $p(\\mathbf{x_i}\\vert\\boldsymbol{\\theta})$  with parameters $\\boldsymbol{\\theta}$. It is sometimes useful to think of this as a probabilistic graphical model, where nodes represent random variables and edges encode dependency relationships between them. In this case, the graph looks as follows:\n",
    "\n",
    "(graph here)\n",
    "\n",
    "In this graph, we show that we have $N$ observations by enclosing the $\\mathbf{x}_i$ random variables within a *plate*. This also represents the fact that we assume the observations to be independent.\n",
    "\n",
    "For many situations this model works, that is, the model is able to explain the data and can be used to make predictions for new observations. In other cases, however, this model is not expressive enough.\n",
    "\n",
    "Imagine that we have a single dimensional variable $x$ of which we observe some samples. Our first hypothesis is that $p(x\\vert\\boldsymbol{\\theta})$ is a normal distribution, so we proceed to find the mean and variance of this distribution using MLE:"
   ]
  },
  {
   "cell_type": "code",
   "execution_count": 5,
   "metadata": {},
   "outputs": [
    {
     "data": {
      "image/png": "[encoded data removed]",
      "text/plain": [
       "<Figure size 432x288 with 2 Axes>"
      ]
     },
     "metadata": {
      "needs_background": "light"
     },
     "output_type": "display_data"
    }
   ],
   "source": [
    "%matplotlib inline\n",
    "import numpy as np\n",
    "from scipy.stats import norm\n",
    "import matplotlib.pyplot as plt\n",
    "from data.synthetic import gaussian_mixture\n",
    "\n",
    "X = gaussian_mixture(200)\n",
    "# The MLE estimates are the sample mean and standard deviation\n",
    "mean = np.mean(X)\n",
    "std = np.std(X)\n",
    "\n",
    "# Plot fit on top of histogram\n",
    "fig, ax1 = plt.subplots()\n",
    "ax1.hist(X, alpha=0.4)\n",
    "ax1.set_ylabel('Counts')\n",
    "ax1.set_xlabel('x')\n",
    "\n",
    "ax2 = ax1.twinx()\n",
    "x = np.linspace(-4, 4, 100)\n",
    "ax2.plot(x, norm.pdf(x))\n",
    "ax2.set_ylim([0, 0.5])\n",
    "ax2.set_ylabel('Probability density');"
   ]
  },
  {
   "cell_type": "markdown",
   "metadata": {},
   "source": [
    "Clearly, once we have actually examined the data, we realize that a single normal distribution is not a good model. The data seems to come from a multimodal distribution with two components, which a single Gaussian is not able to capture. In this case we are better off by changing our model to a *mixture model*, a model that mixes two or more distributions. For the example above, it would seem that a mixture of two components, centered at -2 and 2 would be a better fit.\n",
    "\n",
    "Under this idea, our hypothesis is the next: there are $K$ components in the mixture model. We start by selecting a component $k$ with some probability $\\pi_k$ and, given the selected component, we then draw a sample $x$ from a normal distribution $\\mathcal{N}(x\\vert\\mu_k, \\sigma_k^2)$.\n",
    "\n",
    "We can think of the component as a discrete random variable $z$ that can take values from 1 up to $K$. Therefore, to each sample $x$ there is an associated value of $z$. We do not observe $z$, though, so $z$ is a **latent variable**. If we collapse the parameters $\\pi_k$, $\\mu_k$ and $\\sigma_k$ into a single parameter $\\boldsymbol{\\theta}$, the graphical model for the general case is now the following:\n",
    "\n",
    "(graph here)\n",
    "\n",
    "Note how the model emphasizes the fact that each observation has an associated value of the latent variable. Also note that since $z$ is not observed, its node is not shaded.\n",
    "\n",
    "We can now proceed to find the parameters of our new model, using MLE (or maximum a posteriori, if we have priors on the parameters). However, as it usually is the case, we have traded tractability for expressiveness by introducing latent variables. If we attempt to maximize the log-likelihood, we find that we need to maximize\n",
    "\n",
    "$$\n",
    "\\begin{align}\n",
    "\\sum_{n=1}^N\\log \\sum_{z}p(x_n\\vert z_n, \\boldsymbol{\\theta})p(z_n\\vert\\boldsymbol{\\theta})\n",
    "\\end{align}\n",
    "$$\n",
    "\n",
    "which due to the summation inside the logarithm, does not result in a closed form solution. An alternative is to use the **Expectation Maximization** algorithm, an iterative procedure that can be used to find maximum likelihood estimates of the parameters, which we motivate next.\n",
    "\n",
    "Let $\\mathbf{X}$ and $\\mathbf{Z}$ denote the set of observed and latent variables, respectively, for which we have defined a joint parametric probability distribution\n",
    "\n",
    "$$\n",
    "p(\\mathbf{X}, \\mathbf{Z}\\vert\\boldsymbol{\\theta}) = p(\\mathbf{X}\\vert\\mathbf{Z},\\boldsymbol{\\theta})p(\\mathbf{Z}\\vert\\boldsymbol{\\theta})\n",
    "$$\n",
    "\n",
    "It can be shown [1, 2] that for any distribution $q(\\mathbf{Z})$ we can decompose the log-likelihood as\n",
    "\n",
    "$$\n",
    "\\log p(\\mathbf{X}\\vert\\boldsymbol{\\theta}) = \\mathcal{L}(q, \\boldsymbol{\\theta}) + \\text{KL}(q(\\mathbf{Z})\\Vert p(\\mathbf{Z\\vert\\mathbf{X}, \\boldsymbol{\\theta}}))\\tag{1}\n",
    "$$\n",
    "\n",
    "where $\\text{KL}$ is the Kullback-Leibler divergence, and $\\mathcal{L}(q,\\boldsymbol{\\theta})$ is known as the Evidence Lower Bound (ELBO), because since the KL divergence is always non-negative, it is a lower bound for $p(\\mathbf{X}\\vert\\boldsymbol{\\theta})$. The ELBO is defined as\n",
    "\n",
    "$$\n",
    "\\mathcal{L}(q, \\boldsymbol{\\theta}) = \\mathbb{E}_q[\\log p(\\mathbf{X},\\mathbf{Z}\\vert\\boldsymbol{\\theta})] - \\mathbb{E}_q[\\log q(\\mathbf{Z})]\\tag{2}\n",
    "$$\n",
    "\n",
    "Note that these expectations are taken with respect to the distribution $q(\\mathbf{Z})$.\n",
    "\n",
    "We can now use this decomposition in the EM algorithm to define two steps:\n",
    "\n",
    "- **E step:** Initialize the parameters with some value $\\boldsymbol{\\theta}^\\prime$. In equation 1, close the gap between the lower bound and the likelihood by making the KL divergence equal to zero. We achieve this by setting $q(\\mathbf{Z})$ equal to the posterior $p(\\mathbf{Z}\\vert\\mathbf{X},\\boldsymbol{\\theta}^\\prime)$, which usually involves using Bayes' theorem to calculate\n",
    "\n",
    "  $$\n",
    "  p(\\mathbf{Z}\\vert\\mathbf{X},\\boldsymbol{\\theta}^\\prime) =\n",
    "  \\frac{p(\\mathbf{X}\\vert\\mathbf{Z},\\boldsymbol{\\theta}^\\prime)p(\\mathbf{Z}\\vert\\boldsymbol{\\theta}^\\prime)}{p(\\mathbf{X}\\vert\\boldsymbol{\\theta}^\\prime)}\n",
    "  $$\n",
    "\n",
    "- **M step:** now that the likelihood is equal to the lower bound, maximize the lower bound in equation 2 with respect to the parameters. We find\n",
    "\n",
    "  $$\n",
    "  \\boldsymbol{\\theta}^{\\text{new}} = \\arg\\max_{\\boldsymbol{\\theta}} \\mathbb{E}_q[\\log p(\\mathbf{X},\\mathbf{Z}\\vert\\boldsymbol{\\theta})]\n",
    "  $$\n",
    "\n",
    "  where we have dropped the second term in equation 2 as it does not depend on the parameters, and the expectation is calculated with respect to $q(\\mathbf{Z}) = p(\\mathbf{Z}\\vert\\mathbf{X},\\boldsymbol{\\theta}^\\prime)$. In this step we calculate the derivatives with respect to the parameters and set them to zero to find the maximizing values.\n",
    "\n",
    "This process is repeated until convergence.\n",
    "\n",
    "## A practical example\n",
    "\n",
    "We will use this idea to fit a mixture model from a subset of the famous MNIST dataset. In this dataset each image is of size 28 by 28, containing a handwritten number between 0 and 9, although for simplicity we will take only the digits 4, 5, and 2.\n",
    "\n",
    "We will process the images so that they are binary, so that a pixel can be either 1 or 0. The images are flattened, so that a digit is represented by a vector of 28 $\\times$ 28 = 784 values."
   ]
  },
  {
   "cell_type": "code",
   "execution_count": 6,
   "metadata": {},
   "outputs": [
    {
     "data": {
      "image/png": "[encoded data removed]",
      "text/plain": [
       "<Figure size 1008x72 with 10 Axes>"
      ]
     },
     "metadata": {
      "needs_background": "light"
     },
     "output_type": "display_data"
    }
   ],
   "source": [
    "from sklearn.datasets import fetch_openml\n",
    "import matplotlib.pyplot as plt\n",
    "import numpy as np\n",
    "%matplotlib inline\n",
    "\n",
    "# Fetch data from OpenML.org\n",
    "X, y = fetch_openml('mnist_784', version=1, return_X_y=True)\n",
    "\n",
    "# Take three digits only\n",
    "sample_indices = []\n",
    "for i, label in enumerate(y):\n",
    "    if label in ['4', '5', '2']:\n",
    "        sample_indices.append(i)\n",
    "        \n",
    "X = X[sample_indices]\n",
    "y = y[sample_indices]\n",
    "\n",
    "# Binarize\n",
    "X_bin = np.zeros(X.shape)\n",
    "X_bin[X > np.max(X)/2] = 1\n",
    "\n",
    "# Visualize some digits\n",
    "plt.figure(figsize=(14, 1))\n",
    "for i in range(10):\n",
    "    plt.subplot(1, 10, i+1)\n",
    "    plt.imshow(X_bin[i].reshape((28, 28)), cmap='bone')\n",
    "    plt.axis('off')"
   ]
  },
  {
   "cell_type": "markdown",
   "metadata": {},
   "source": [
    "Our hypothesis is that each pixel $x_i$ in the image $\\mathbf{x}$ is a Bernoulli random variable with probability $\\mu_i$ of being 1, and so we define the vector $\\boldsymbol{\\mu}$ as containing the probabilities for each pixel.\n",
    "\n",
    "The probabilities can be different depending on whether the number is a 2, a 4 or a 5, so we will define 3 components for the mixture model. This means that there will be 3 mean vectors $\\boldsymbol{\\mu}_i$ and each component will have a probability $\\pi_k$. These are the parameters that we will find using the EM algorithm, which I have implemented in the [BernoulliMixture](https://github.com/dfdazac/machine-learning-1/blob/master/mixture_models/bernoulli_mixture.py) class."
   ]
  },
  {
   "cell_type": "code",
   "execution_count": 7,
   "metadata": {},
   "outputs": [
    {
     "name": "stdout",
     "output_type": "stream",
     "text": [
      "Iteration 9/100,  convergence: 0.000088\n",
      "Terminating on convergence.\n"
     ]
    }
   ],
   "source": [
    "from mixture_models.bernoulli_mixture import BernoulliMixture\n",
    "\n",
    "model = BernoulliMixture(dimensions=784, n_components=3, verbose=True)\n",
    "model.fit(X_bin)"
   ]
  },
  {
   "cell_type": "markdown",
   "metadata": {},
   "source": [
    "We can now observe the means and the mixing coefficients of the mixture model after convergence of the EM algorithm, which are stored in the `model.mu` attribute:"
   ]
  },
  {
   "cell_type": "code",
   "execution_count": 10,
   "metadata": {},
   "outputs": [
    {
     "data": {
      "image/png": "[encoded data removed]",
      "text/plain": [
       "<Figure size 720x288 with 3 Axes>"
      ]
     },
     "metadata": {
      "needs_background": "light"
     },
     "output_type": "display_data"
    }
   ],
   "source": [
    "plt.figure(figsize=(10, 4))\n",
    "for i, component_mean in enumerate(model.mu):\n",
    "    plt.subplot(1, 3, i + 1)\n",
    "    plt.imshow(component_mean.reshape((28, 28)), cmap='Blues')\n",
    "    plt.title(r'$\\pi_{:d}$ = {:.3f}'.format(i + 1, model.pi[i]))\n",
    "    plt.axis('off')"
   ]
  },
  {
   "cell_type": "markdown",
   "metadata": {},
   "source": [
    "We can see that the means correspond to the three digits in the dataset. In this particular case, given a value of 1 for the latent variable $\\mathbf{z}$ (corresponding to digit 4), the observation (the image) is a sample from the distribution whose mean is given by the one to the left in the plots above. The mixing coefficients give us an idea of the proportion of instances of each digit in the dataset used to train the model.\n",
    "\n",
    "As we have seen, introducing latent variables has allowed us to specify complex probability distributions that are likely to provide more predictive power in some applications. Other examples include mixtures of Gaussians for clustering applications, where usually an algorithm like K-means fails at capturing different covariances for each cluster; and non-trivial probabilistic models of real life data, such as click models [2].\n",
    "\n",
    "It is important to note that the EM algorithm is not the ultimate way to find parameters of models with latent variables. On one hand, the method is sensitive to the initialization of the parameters and might end up at a local maximum of the log-likelihood. On the other hand, we have assumed that we can calculate the posterior $p(\\mathbf{Z}\\vert\\mathbf{X},\\boldsymbol{\\theta})$, which sometimes is not possible for more elaborate models. In such cases it is necessary to resort to approximate methods such as sampling and variational inference. This last area leads to many recent advances, including the Variational Autoencoder, which I would like to discuss in the near feature.\n",
    "\n",
    "### References\n",
    "\n",
    "[1] Murphy, K. P. (2012). Machine Learning: A Probabilistic Perspective. The MIT Press.\n",
    "\n",
    "[2] Dan Piponi, \"Expectation-Maximization with Less Arbitrariness\", blog post at [http://blog.sigfpe.com/2016/10/expectation-maximization-with-less.html](http://blog.sigfpe.com/2016/10/expectation-maximization-with-less.html).\n",
    "\n",
    "[2] Chuklin, Aleksandr, Ilya Markov, and Maarten de Rijke. \"Click models for web search.\" Synthesis Lectures on Information Concepts, Retrieval, and Services 7, no. 3 (2015): 1-115."
   ]
  }
 ],
 "metadata": {
  "kernelspec": {
   "display_name": "Python 3",
   "language": "python",
   "name": "python3"
  },
  "language_info": {
   "codemirror_mode": {
    "name": "ipython",
    "version": 3
   },
   "file_extension": ".py",
   "mimetype": "text/x-python",
   "name": "python",
   "nbconvert_exporter": "python",
   "pygments_lexer": "ipython3",
   "version": "3.7.0"
  }
 },
 "nbformat": 4,
 "nbformat_minor": 2
}
